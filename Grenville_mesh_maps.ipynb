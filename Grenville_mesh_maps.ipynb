{
 "cells": [
  {
   "cell_type": "markdown",
   "metadata": {},
   "source": [
    "# Visualising Grenville Channel\n",
    "\n",
    "Making maps showing the extents of the two meshes. \n",
    "\n",
    "These are:  \n",
    "1. grc100, which I assume to be the O(100 m) nest, and\n",
    "2. kit500, which I assume to be an O(500 m) parent model."
   ]
  },
  {
   "cell_type": "code",
   "execution_count": 1,
   "metadata": {},
   "outputs": [],
   "source": [
    "#== imports ==#\n",
    "\n",
    "import xarray as xr\n",
    "import LSmap \n",
    "import numpy as np \n",
    "import math\n",
    "import os\n",
    "import matplotlib.pyplot as plt\n",
    "import matplotlib.path as mpath\n",
    "import cartopy.crs as ccrs\n",
    "import cartopy.feature as feature\n",
    "import matplotlib.ticker as mticker\n",
    "import matplotlib.colors as colors"
   ]
  },
  {
   "cell_type": "code",
   "execution_count": 2,
   "metadata": {},
   "outputs": [],
   "source": [
    "#== setting up the map ==#\n",
    "\n",
    "#extents of the map\n",
    "westLon = -131.1\n",
    "eastLon = -127.7\n",
    "northLat = 51.9\n",
    "southLat = 54.4\n",
    "\n",
    "#defining the projection (note that standard parallels are the parallels of correct scale)\n",
    "projection = ccrs.AlbersEqualArea(central_longitude=-129.4, central_latitude=53.15,standard_parallels=(southLat,northLat))\n",
    "\n",
    "#create figure (using the specified projection)\n",
    "ax = plt.subplot(1, 1, 1, projection=projection)\n",
    "\n",
    "#define map dimensions (using Plate Carree coordinate system)\n",
    "ax.set_extent([westLon, eastLon, southLat, northLat], crs=ccrs.PlateCarree())\n",
    "\n",
    "#add coast lines \n",
    "coast = feature.GSHHSFeature(scale=\"f\") #GSHHS is for high-res. coast lines\n",
    "ax.add_feature(coast)\n",
    "\n",
    "#ticks\n",
    "gl = ax.gridlines(draw_labels=True, x_inline=False, y_inline=False, linewidth=0.5, dms=False) #dms is minuts vs. frac\n",
    "gl.top_labels=False #suppress top labels\n",
    "gl.right_labels=False #suppress right labels\n",
    "gl.rotate_labels=False\n",
    "gl.xlabel_style = {'size': 9}\n",
    "gl.ylabel_style = {'size': 9}\n",
    "\n",
    "#colour map\n",
    "cm = 'Greys'#'viridis'"
   ]
  },
  {
   "cell_type": "code",
   "execution_count": 1,
   "metadata": {},
   "outputs": [
    {
     "ename": "",
     "evalue": "",
     "output_type": "error",
     "traceback": [
      "\u001b[1;31mThe Kernel crashed while executing code in the the current cell or a previous cell. Please review the code in the cell(s) to identify a possible cause of the failure. Click <a href='https://aka.ms/vscodeJupyterKernelCrash'>here</a> for more info. View Jupyter <a href='command:jupyter.viewOutput'>log</a> for further details."
     ]
    }
   ],
   "source": [
    "#== plotting data ==#\n",
    "\n",
    "#opening mesh for grc100\n",
    "meshPath1 = '/mnt/storage3/tahya/DFO/' + 'grc100' + '_config/mesh_mask.nc'\n",
    "DS1 = xr.open_dataset(meshPath1)\n",
    "tmask1 = DS1.tmask.isel(t=0,z=0) #(taking slice of tmask at z=0)\n",
    "\n",
    "#opening mesh for kit500\n",
    "meshPath2 = '/mnt/storage3/tahya/DFO/' + 'kit500' + '_config/mesh_mask.nc'\n",
    "DS2 = xr.open_dataset(meshPath2)\n",
    "tmask2 = DS2.tmask.isel(t=0,z=0) #(taking slice of tmask at z=0)\n",
    "\n",
    "#plotting meshes\n",
    "p1 = ax.pcolormesh(DS1.nav_lon, DS1.nav_lat, tmask1, transform=ccrs.PlateCarree(), vmin=0, vmax=1, cmap=cm)\n",
    "p2 = ax.pcolormesh(DS2.nav_lon, DS2.nav_lat, tmask2, transform=ccrs.PlateCarree(), vmin=0, vmax=1, cmap=cm)\n",
    "\n",
    "#title\n",
    "ax.set_title('Grenville Channel NEMO meshes')\n",
    "\n",
    "plt.show()\n",
    "\n",
    "#save and close figure\n",
    "#plt.savefig('meshes' + '_map.png',dpi=300, bbox_inches=\"tight\")\n"
   ]
  }
 ],
 "metadata": {
  "kernelspec": {
   "display_name": "snakes",
   "language": "python",
   "name": "python3"
  },
  "language_info": {
   "codemirror_mode": {
    "name": "ipython",
    "version": 3
   },
   "file_extension": ".py",
   "mimetype": "text/x-python",
   "name": "python",
   "nbconvert_exporter": "python",
   "pygments_lexer": "ipython3",
   "version": "3.9.12"
  }
 },
 "nbformat": 4,
 "nbformat_minor": 2
}
